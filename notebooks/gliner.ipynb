{
 "cells": [
  {
   "cell_type": "code",
   "execution_count": null,
   "metadata": {},
   "outputs": [],
   "source": [
    "! pip install --upgrade pip\n",
    "! pip install -r ../requirements.txt\n"
   ]
  },
  {
   "cell_type": "code",
   "execution_count": null,
   "metadata": {},
   "outputs": [],
   "source": [
    "import datetime\n",
    "from dateutil.parser import parse\n",
    "from dateutil.relativedelta import relativedelta, MO\n",
    "\n",
    "import pandas as pd\n",
    "from transformers import Pipeline, pipeline\n",
    "from gliner import GLiNER\n"
   ]
  },
  {
   "cell_type": "code",
   "execution_count": null,
   "metadata": {},
   "outputs": [],
   "source": [
    "df = pd.read_csv('../data/data.csv', delimiter=';')\n"
   ]
  },
  {
   "cell_type": "code",
   "execution_count": null,
   "metadata": {},
   "outputs": [],
   "source": [
    "df.head(10)"
   ]
  },
  {
   "cell_type": "code",
   "execution_count": null,
   "metadata": {},
   "outputs": [],
   "source": [
    "row = df.iloc[40]\n"
   ]
  },
  {
   "cell_type": "code",
   "execution_count": null,
   "metadata": {},
   "outputs": [],
   "source": [
    "def ask_questions(qa: Pipeline, context: str):\n",
    "    results = [None] * 5\n",
    "\n",
    "    # Initial question\n",
    "    question_what_happened = {\n",
    "        'question': 'What happened?',\n",
    "        'context': context\n",
    "    }\n",
    "    answer_what_happened = qa(question_what_happened)\n",
    "    results[2] = answer_what_happened[\"answer\"]\n",
    "\n",
    "    # Questions about what happened before\n",
    "    question_before_1 = {\n",
    "        'question': f'What happened before {answer_what_happened[\"answer\"]}?',\n",
    "        'context': context\n",
    "    }\n",
    "    answer_before_1 = qa(question_before_1)\n",
    "    results[1] = answer_before_1[\"answer\"]\n",
    "\n",
    "    question_before_2 = {\n",
    "        'question': f'What happened before {answer_before_1[\"answer\"]}?',\n",
    "        'context': context\n",
    "    }\n",
    "    answer_before_2 = qa(question_before_2)\n",
    "    results[0] = answer_before_2[\"answer\"]\n",
    "\n",
    "    # Questions about what happened after\n",
    "    question_after_1 = {\n",
    "        'question': f'What happened after {answer_what_happened[\"answer\"]}?',\n",
    "        'context': context\n",
    "    }\n",
    "    answer_after_1 = qa(question_after_1)\n",
    "    results[3] = answer_after_1[\"answer\"]\n",
    "\n",
    "    question_after_2 = {\n",
    "        'question': f'What happened after {answer_after_1[\"answer\"]}?',\n",
    "        'context': context\n",
    "    }\n",
    "    answer_after_2 = qa(question_after_2)\n",
    "    results[4] = answer_after_2[\"answer\"]\n",
    "\n",
    "    return results\n",
    "\n",
    "def process_row(row: pd.Series, ner: GLiNER, qa: Pipeline):\n",
    "    LABELS = [\"day when accident happened\", \"time when accident happened\", \"vehicle\", \"casualties\", \"age of people who died\"]\n",
    "\n",
    "    publish, place, text = row[\"Publish\"], row[\"Place\"], row[\"RAW_TEXT\"]\n",
    "\n",
    "    entities = ner.predict_entities(text, LABELS)\n",
    "\n",
    "    results = {\n",
    "        \"place\": place,\n",
    "        \"date\": None,\n",
    "        \"time\": None,\n",
    "        \"vehicles\": [],\n",
    "        \"casualties\": 0,\n",
    "        \"ageOfCasualties\": [],\n",
    "        \"injuries\": 0, \n",
    "        \"reason\": \"\",\n",
    "        \"sequenceOfEvents\": [],\n",
    "    }\n",
    "\n",
    "    seen_casualities = []\n",
    "\n",
    "    for entity in entities:\n",
    "        label, value = entity[\"label\"], entity[\"text\"]\n",
    "\n",
    "        if label == \"day when accident happened\" and not results[\"date\"]:\n",
    "            try:\n",
    "                publish_weekday = parse(publish).weekday()\n",
    "                accident_weekday = parse(value.split(\" \")[0]).weekday()\n",
    "                results[\"date\"] = (parse(publish) - datetime.timedelta(days=(publish_weekday - accident_weekday))).strftime(\"%Y-%m-%d\")\n",
    "            except:\n",
    "                pass\n",
    "\n",
    "        elif label == \"time when accident happened\" and not results[\"time\"]:\n",
    "            results[\"time\"] = value\n",
    "\n",
    "        elif label == \"vehicle\" and value.lower() not in results[\"vehicles\"]:\n",
    "            results[\"vehicles\"].append(value.lower())\n",
    "\n",
    "        elif label == \"casualties\" and value.lower() not in seen_casualities:\n",
    "            results[\"casualties\"] += 1\n",
    "            seen_casualities.append(value.lower())\n",
    "        elif label == \"age of people who died\":\n",
    "            results[\"ageOfCasualties\"].append(value)\n",
    "    question_reason = {\n",
    "        'question': 'How did the vehicle crash?',\n",
    "        'context': text\n",
    "    }\n",
    "    answer_reason = qa(question_reason)\n",
    "\n",
    "    question_injuries = {\n",
    "        'question': 'How many people were injured?',\n",
    "        'context': text\n",
    "    }\n",
    "    answer_injuries = qa(question_injuries)    \n",
    "\n",
    "    results[\"injuries\"] = answer_injuries[\"answer\"]\n",
    "    results[\"reason\"] = answer_reason[\"answer\"]\n",
    "    results[\"sequenceOfEvents\"] = ask_questions(qa, text)\n",
    "    \n",
    "    return results\n"
   ]
  },
  {
   "cell_type": "code",
   "execution_count": null,
   "metadata": {},
   "outputs": [],
   "source": []
  },
  {
   "cell_type": "code",
   "execution_count": null,
   "metadata": {},
   "outputs": [],
   "source": [
    "ner = GLiNER.from_pretrained(\"urchade/gliner_medium-v2.1\")\n",
    "qa_model_name = \"deepset/roberta-base-squad2\"\n",
    "qa = pipeline('question-answering', model=qa_model_name, tokenizer=qa_model_name)\n",
    "\n",
    "\n",
    "results = []\n",
    "\n",
    "for i, row in df.iterrows():\n",
    "    print(f\"Processing row {i + 1}/{len(df)}\")\n",
    "    results.append(process_row(row, ner, qa))\n",
    "\n",
    "results[:10]\n"
   ]
  },
  {
   "cell_type": "code",
   "execution_count": null,
   "metadata": {},
   "outputs": [],
   "source": []
  }
 ],
 "metadata": {
  "kernelspec": {
   "display_name": "nlp",
   "language": "python",
   "name": "python3"
  },
  "language_info": {
   "codemirror_mode": {
    "name": "ipython",
    "version": 3
   },
   "file_extension": ".py",
   "mimetype": "text/x-python",
   "name": "python",
   "nbconvert_exporter": "python",
   "pygments_lexer": "ipython3",
   "version": "3.11.4"
  }
 },
 "nbformat": 4,
 "nbformat_minor": 2
}
