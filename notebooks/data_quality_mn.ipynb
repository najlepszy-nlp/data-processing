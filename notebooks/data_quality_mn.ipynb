{
 "cells": [
  {
   "cell_type": "code",
   "execution_count": 9,
   "metadata": {},
   "outputs": [],
   "source": [
    "import pandas as pd\n",
    "import jsonlines\n",
    "import math\n",
    "import word2number.w2n\n"
   ]
  },
  {
   "cell_type": "markdown",
   "metadata": {},
   "source": [
    "### Load Expected Data"
   ]
  },
  {
   "cell_type": "code",
   "execution_count": 10,
   "metadata": {},
   "outputs": [],
   "source": [
    "orig_expected_df = pd.read_csv('../data/expected.csv', delimiter=';')\n"
   ]
  },
  {
   "cell_type": "code",
   "execution_count": 11,
   "metadata": {},
   "outputs": [
    {
     "name": "stdout",
     "output_type": "stream",
     "text": [
      "(1670, 4)\n"
     ]
    },
    {
     "data": {
      "text/html": [
       "<div>\n",
       "<style scoped>\n",
       "    .dataframe tbody tr th:only-of-type {\n",
       "        vertical-align: middle;\n",
       "    }\n",
       "\n",
       "    .dataframe tbody tr th {\n",
       "        vertical-align: top;\n",
       "    }\n",
       "\n",
       "    .dataframe thead th {\n",
       "        text-align: right;\n",
       "    }\n",
       "</style>\n",
       "<table border=\"1\" class=\"dataframe\">\n",
       "  <thead>\n",
       "    <tr style=\"text-align: right;\">\n",
       "      <th></th>\n",
       "      <th>url</th>\n",
       "      <th>expectedAgeOfCasualties</th>\n",
       "      <th>expectedInjuries</th>\n",
       "      <th>expectedReason</th>\n",
       "    </tr>\n",
       "  </thead>\n",
       "  <tbody>\n",
       "    <tr>\n",
       "      <th>0</th>\n",
       "      <td>https://www.unb.com.bd/category/Bangladesh/tru...</td>\n",
       "      <td>NaN</td>\n",
       "      <td>&lt;0&gt;</td>\n",
       "      <td>&lt;collision&gt;</td>\n",
       "    </tr>\n",
       "    <tr>\n",
       "      <th>1</th>\n",
       "      <td>https://www.unb.com.bd/category/Bangladesh/2-k...</td>\n",
       "      <td>NaN</td>\n",
       "      <td>&lt;4&gt;</td>\n",
       "      <td>&lt;collision&gt;</td>\n",
       "    </tr>\n",
       "    <tr>\n",
       "      <th>2</th>\n",
       "      <td>https://www.unb.com.bd/category/Bangladesh/fou...</td>\n",
       "      <td>&lt;(45, 32, 34)&gt;</td>\n",
       "      <td>&lt;0&gt;</td>\n",
       "      <td>&lt;collision&gt;</td>\n",
       "    </tr>\n",
       "    <tr>\n",
       "      <th>3</th>\n",
       "      <td>https://www.unb.com.bd/category/Bangladesh/kar...</td>\n",
       "      <td>&lt;(60, 55)&gt;</td>\n",
       "      <td>&lt;0&gt;</td>\n",
       "      <td>&lt;capsize&gt;</td>\n",
       "    </tr>\n",
       "    <tr>\n",
       "      <th>4</th>\n",
       "      <td>https://www.unb.com.bd/category/Bangladesh/tou...</td>\n",
       "      <td>&lt;32&gt;</td>\n",
       "      <td>&lt;6&gt;</td>\n",
       "      <td>&lt;collision&gt;</td>\n",
       "    </tr>\n",
       "  </tbody>\n",
       "</table>\n",
       "</div>"
      ],
      "text/plain": [
       "                                                 url expectedAgeOfCasualties  \\\n",
       "0  https://www.unb.com.bd/category/Bangladesh/tru...                     NaN   \n",
       "1  https://www.unb.com.bd/category/Bangladesh/2-k...                     NaN   \n",
       "2  https://www.unb.com.bd/category/Bangladesh/fou...          <(45, 32, 34)>   \n",
       "3  https://www.unb.com.bd/category/Bangladesh/kar...              <(60, 55)>   \n",
       "4  https://www.unb.com.bd/category/Bangladesh/tou...                    <32>   \n",
       "\n",
       "  expectedInjuries expectedReason  \n",
       "0              <0>    <collision>  \n",
       "1              <4>    <collision>  \n",
       "2              <0>    <collision>  \n",
       "3              <0>      <capsize>  \n",
       "4              <6>    <collision>  "
      ]
     },
     "execution_count": 11,
     "metadata": {},
     "output_type": "execute_result"
    }
   ],
   "source": [
    "expected_df = orig_expected_df[[\n",
    "    \"<url>\", \n",
    "    \"<available_ages_of_the_deceased>\", \n",
    "    \"<total_number_of_people_injured>\",\n",
    "    \"<is_reason_or_cause_for_the_accident_ploughed_or_ram_or_hit_or_collision_or_breakfail_or_others>\",\n",
    "]].rename(columns={\n",
    "    \"<url>\": \"url\", \n",
    "    \"<available_ages_of_the_deceased>\": \"expectedAgeOfCasualties\", \n",
    "    \"<total_number_of_people_injured>\": \"expectedInjuries\",\n",
    "    \"<is_reason_or_cause_for_the_accident_ploughed_or_ram_or_hit_or_collision_or_breakfail_or_others>\": \"expectedReason\",\n",
    "})\n",
    "\n",
    "expected_df['url'] = expected_df['url'].apply(lambda x: (x.replace(\">\", \"\").replace(\"<\", \"\"))).astype(str)\n",
    "expected_df = expected_df.drop_duplicates(['url'])\n",
    "\n",
    "print(expected_df.shape)\n",
    "expected_df.head()\n"
   ]
  },
  {
   "cell_type": "markdown",
   "metadata": {},
   "source": [
    "### Load Processed Data"
   ]
  },
  {
   "cell_type": "code",
   "execution_count": 12,
   "metadata": {},
   "outputs": [
    {
     "name": "stdout",
     "output_type": "stream",
     "text": [
      "(864, 4)\n"
     ]
    },
    {
     "data": {
      "text/html": [
       "<div>\n",
       "<style scoped>\n",
       "    .dataframe tbody tr th:only-of-type {\n",
       "        vertical-align: middle;\n",
       "    }\n",
       "\n",
       "    .dataframe tbody tr th {\n",
       "        vertical-align: top;\n",
       "    }\n",
       "\n",
       "    .dataframe thead th {\n",
       "        text-align: right;\n",
       "    }\n",
       "</style>\n",
       "<table border=\"1\" class=\"dataframe\">\n",
       "  <thead>\n",
       "    <tr style=\"text-align: right;\">\n",
       "      <th></th>\n",
       "      <th>url</th>\n",
       "      <th>ageOfCasualties</th>\n",
       "      <th>injuries</th>\n",
       "      <th>reason</th>\n",
       "    </tr>\n",
       "  </thead>\n",
       "  <tbody>\n",
       "    <tr>\n",
       "      <th>0</th>\n",
       "      <td>https://www.unb.com.bd/category/Bangladesh/rec...</td>\n",
       "      <td>[]</td>\n",
       "      <td>several</td>\n",
       "      <td>reckless driving</td>\n",
       "    </tr>\n",
       "    <tr>\n",
       "      <th>1</th>\n",
       "      <td>https://www.unb.com.bd/category/Bangladesh/out...</td>\n",
       "      <td>[]</td>\n",
       "      <td>10</td>\n",
       "      <td>crashed into the other truck</td>\n",
       "    </tr>\n",
       "    <tr>\n",
       "      <th>2</th>\n",
       "      <td>https://www.unb.com.bd/category/Bangladesh/3-d...</td>\n",
       "      <td>[]</td>\n",
       "      <td>two</td>\n",
       "      <td>battery-run autorickshaw</td>\n",
       "    </tr>\n",
       "    <tr>\n",
       "      <th>3</th>\n",
       "      <td>https://www.unb.com.bd/category/Bangladesh/mot...</td>\n",
       "      <td>[45]</td>\n",
       "      <td>died</td>\n",
       "      <td>Amzad lost control of his motorcycle and fell ...</td>\n",
       "    </tr>\n",
       "    <tr>\n",
       "      <th>4</th>\n",
       "      <td>https://www.unb.com.bd/category/Bangladesh/tee...</td>\n",
       "      <td>[13]</td>\n",
       "      <td>Dhaka Medical College morgue for an autopsy.</td>\n",
       "      <td>under the flyover</td>\n",
       "    </tr>\n",
       "  </tbody>\n",
       "</table>\n",
       "</div>"
      ],
      "text/plain": [
       "                                                 url ageOfCasualties  \\\n",
       "0  https://www.unb.com.bd/category/Bangladesh/rec...              []   \n",
       "1  https://www.unb.com.bd/category/Bangladesh/out...              []   \n",
       "2  https://www.unb.com.bd/category/Bangladesh/3-d...              []   \n",
       "3  https://www.unb.com.bd/category/Bangladesh/mot...            [45]   \n",
       "4  https://www.unb.com.bd/category/Bangladesh/tee...            [13]   \n",
       "\n",
       "                                       injuries  \\\n",
       "0                                       several   \n",
       "1                                            10   \n",
       "2                                           two   \n",
       "3                                          died   \n",
       "4  Dhaka Medical College morgue for an autopsy.   \n",
       "\n",
       "                                              reason  \n",
       "0                                   reckless driving  \n",
       "1                       crashed into the other truck  \n",
       "2                           battery-run autorickshaw  \n",
       "3  Amzad lost control of his motorcycle and fell ...  \n",
       "4                                  under the flyover  "
      ]
     },
     "execution_count": 12,
     "metadata": {},
     "output_type": "execute_result"
    }
   ],
   "source": [
    "data: list[dict] = []\n",
    "\n",
    "with jsonlines.open(\"../data/data_processed.jsonl\") as reader:\n",
    "    data = list(reader.iter())\n",
    "\n",
    "filtered_data = list(map(\n",
    "    lambda x: {\n",
    "        \"url\" : x[\"url\"],\n",
    "        \"ageOfCasualties\": x[\"ageOfCasualties\"],\n",
    "        \"injuries\": x[\"injuries\"],\n",
    "        \"reason\": x[\"reason\"],\n",
    "    }, \n",
    "    data,\n",
    "))\n",
    "\n",
    "processed_df = pd.DataFrame(filtered_data)\n",
    "processed_df[\"url\"] = processed_df[\"url\"].astype(str)\n",
    "\n",
    "print(processed_df.shape)\n",
    "processed_df.head()\n"
   ]
  },
  {
   "cell_type": "markdown",
   "metadata": {},
   "source": [
    "### Joined dataframes"
   ]
  },
  {
   "cell_type": "code",
   "execution_count": 13,
   "metadata": {},
   "outputs": [
    {
     "data": {
      "text/plain": [
       "(864, 7)"
      ]
     },
     "execution_count": 13,
     "metadata": {},
     "output_type": "execute_result"
    }
   ],
   "source": [
    "joined_df = processed_df.merge(expected_df, on='url', how='left')\n",
    "joined_df.shape\n"
   ]
  },
  {
   "cell_type": "markdown",
   "metadata": {},
   "source": [
    "### Score on Age Of Casualties"
   ]
  },
  {
   "cell_type": "code",
   "execution_count": 28,
   "metadata": {},
   "outputs": [
    {
     "name": "stdout",
     "output_type": "stream",
     "text": [
      "Error: invalid syntax (<string>, line 1)\n",
      "Row: url                        https://www.unb.com.bd/category/Bangladesh/col...\n",
      "ageOfCasualties                                                         [50]\n",
      "injuries                                                            10:30 am\n",
      "reason                                               while crossing the road\n",
      "expectedAgeOfCasualties                                     <20230524 12:38>\n",
      "expectedInjuries                                                       <hit>\n",
      "expectedReason                                                         <Bus>\n",
      "Name: 41, dtype: object\n",
      "Index: 41\n",
      "Error: name 'NA' is not defined\n",
      "Row: url                        https://www.unb.com.bd/category/Bangladesh/lyr...\n",
      "ageOfCasualties                                                           []\n",
      "injuries                                                                 one\n",
      "reason                     a covered van hit the motorbike while he was h...\n",
      "expectedAgeOfCasualties                                               <(NA)>\n",
      "expectedInjuries                                                         <1>\n",
      "expectedReason                                                   <collision>\n",
      "Name: 109, dtype: object\n",
      "Index: 109\n",
      "Error: invalid syntax (<string>, line 1)\n",
      "Row: url                        https://www.unb.com.bd/category/Bangladesh/15-...\n",
      "ageOfCasualties                                                           []\n",
      "injuries                                                                  15\n",
      "reason                                                electric short-circuit\n",
      "expectedAgeOfCasualties                                     <20221009 16:14>\n",
      "expectedInjuries                                                      <fire>\n",
      "expectedReason                                                           NaN\n",
      "Name: 114, dtype: object\n",
      "Index: 114\n",
      "Error: invalid syntax (<string>, line 1)\n",
      "Row: url                        https://www.unb.com.bd/category/Bangladesh/7-s...\n",
      "ageOfCasualties                                                           []\n",
      "injuries                                                      At least seven\n",
      "reason                                                           caught fire\n",
      "expectedAgeOfCasualties                                     <20221013 23:47>\n",
      "expectedInjuries                                                      <fire>\n",
      "expectedReason                                                         <Van>\n",
      "Name: 118, dtype: object\n",
      "Index: 118\n",
      "Error: invalid syntax (<string>, line 1)\n",
      "Row: url                        https://www.unb.com.bd/category/Bangladesh/goo...\n",
      "ageOfCasualties                                                           []\n",
      "injuries                                                                  15\n",
      "reason                                                  ,&rdquo said Azizur.\n",
      "expectedAgeOfCasualties                                     <20220820 14:48>\n",
      "expectedInjuries                                                      <fire>\n",
      "expectedReason                                                           NaN\n",
      "Name: 146, dtype: object\n",
      "Index: 146\n",
      "Error: invalid syntax (<string>, line 1)\n",
      "Row: url                        https://www.unb.com.bd/category/Bangladesh/fir...\n",
      "ageOfCasualties                                                           []\n",
      "injuries                                                                 ten\n",
      "reason                                                                 Dhaka\n",
      "expectedAgeOfCasualties                                     <20220815 15:19>\n",
      "expectedInjuries                                                      <fire>\n",
      "expectedReason                                                           NaN\n",
      "Name: 149, dtype: object\n",
      "Index: 149\n",
      "Error: invalid syntax (<string>, line 1)\n",
      "Row: url                        https://www.unb.com.bd/category/Bangladesh/cer...\n",
      "ageOfCasualties                                                           []\n",
      "injuries                                                                five\n",
      "reason                     No. 11 Aircraft Accident Investigation course ...\n",
      "expectedAgeOfCasualties                                     <20220811 21:51>\n",
      "expectedInjuries                                                         NaN\n",
      "expectedReason                                                           NaN\n",
      "Name: 152, dtype: object\n",
      "Index: 152\n",
      "Error: invalid syntax (<string>, line 1)\n",
      "Row: url                        https://www.unb.com.bd/category/Bangladesh/mir...\n",
      "ageOfCasualties                                                           []\n",
      "injuries                                                                  12\n",
      "reason                                         ploughed through the microbus\n",
      "expectedAgeOfCasualties                                     <20220805 17:23>\n",
      "expectedInjuries                                                       <hit>\n",
      "expectedReason                                                       <Train>\n",
      "Name: 154, dtype: object\n",
      "Index: 154\n",
      "Error: invalid syntax (<string>, line 1)\n",
      "Row: url                        https://www.unb.com.bd/category/Bangladesh/joy...\n",
      "ageOfCasualties                                            [Twenty-year-old]\n",
      "injuries                                                                four\n",
      "reason                     A bus of Saudia Paribahan crashed into the veh...\n",
      "expectedAgeOfCasualties                                     <20220715 18:39>\n",
      "expectedInjuries                                                       <hit>\n",
      "expectedReason                                                         <Car>\n",
      "Name: 187, dtype: object\n",
      "Index: 187\n",
      "Error: invalid syntax (<string>, line 1)\n",
      "Row: url                        https://www.unb.com.bd/category/Bangladesh/30-...\n",
      "ageOfCasualties                                                           []\n",
      "injuries                                                              Thirty\n",
      "reason                                            fell into a roadside ditch\n",
      "expectedAgeOfCasualties                                     <20220708 23:23>\n",
      "expectedInjuries                                              <lost control>\n",
      "expectedReason                                                         <Bus>\n",
      "Name: 188, dtype: object\n",
      "Index: 188\n",
      "Error: name 'NA' is not defined\n",
      "Row: url                        https://www.unb.com.bd/category/Bangladesh/fat...\n",
      "ageOfCasualties                                                     [45, 45]\n",
      "injuries                                                               three\n",
      "reason                                      covered van hit an auto-rickshaw\n",
      "expectedAgeOfCasualties                                       <(45, 22, NA)>\n",
      "expectedInjuries                                                         <2>\n",
      "expectedReason                                                         <hit>\n",
      "Name: 727, dtype: object\n",
      "Index: 727\n",
      "Error: name 'NA' is not defined\n",
      "Row: url                        https://www.unb.com.bd/category/Bangladesh/two...\n",
      "ageOfCasualties                                                         [22]\n",
      "injuries                                                                 Two\n",
      "reason                                                        turned turtled\n",
      "expectedAgeOfCasualties                                           <(22, NA)>\n",
      "expectedInjuries                                                         NaN\n",
      "expectedReason                                                   <collision>\n",
      "Name: 793, dtype: object\n",
      "Index: 793\n",
      "Correct ageOfCasualties: 244/864 (28.24%)\n"
     ]
    }
   ],
   "source": [
    "total = list(joined_df.iterrows()).__len__()\n",
    "correct = 0\n",
    "\n",
    "for index, row in joined_df.iterrows():\n",
    "    try:\n",
    "        if type(row['expectedAgeOfCasualties']) == float and math.isnan(row[\"expectedAgeOfCasualties\"]) and row[\"ageOfCasualties\"] == []:\n",
    "            correct += 1\n",
    "        elif type(row['expectedAgeOfCasualties']) == str and row['expectedAgeOfCasualties'] == \"NA\":\n",
    "            if row[\"ageOfCasualties\"] == []:\n",
    "                correct += 1 \n",
    "        elif type(row['expectedAgeOfCasualties']) == str and type(eval(row['expectedAgeOfCasualties'].replace(\">\", \"\").replace(\"<\", \"\"))) in (tuple, list):\n",
    "            if set(eval(row['expectedAgeOfCasualties'].replace(\">\", \"\").replace(\"<\", \"\"))).issubset(set(row[\"ageOfCasualties\"])):\n",
    "                correct += 1\n",
    "        elif type(row['expectedAgeOfCasualties']) == str and type(eval(row['expectedAgeOfCasualties'].replace(\">\", \"\").replace(\"<\", \"\"))) == int:\n",
    "            if eval(row['expectedAgeOfCasualties'].replace(\">\", \"\").replace(\"<\", \"\")) in row[\"ageOfCasualties\"]:\n",
    "                correct += 1\n",
    "\n",
    "    except Exception as e:\n",
    "        print(f\"Error: {e}\")\n",
    "        print(f\"Row: {row}\")\n",
    "        print(f\"Index: {index}\")\n",
    "\n",
    "\n",
    "\n",
    "print(f\"Correct ageOfCasualties: {correct}/{total} ({correct/total*100:.2f}%)\")"
   ]
  },
  {
   "cell_type": "markdown",
   "metadata": {},
   "source": [
    "### Score on Injuries"
   ]
  },
  {
   "cell_type": "code",
   "execution_count": 24,
   "metadata": {},
   "outputs": [
    {
     "name": "stdout",
     "output_type": "stream",
     "text": [
      "Correct injuries: 382/864 (44.21%)\n"
     ]
    }
   ],
   "source": [
    "total = len(joined_df)\n",
    "correct = 0\n",
    "\n",
    "for index, row in joined_df.iterrows():\n",
    "    try:\n",
    "        expected = int(row['expectedInjuries'].replace(\">\", \"\").replace(\"<\", \"\"))\n",
    "    except Exception as e:\n",
    "        continue\n",
    "\n",
    "\n",
    "    try:\n",
    "        actual = word2number.w2n.word_to_num(row[\"injuries\"])\n",
    "    except ValueError:\n",
    "        actual = 0\n",
    "\n",
    "    if expected == actual:\n",
    "        correct += 1\n",
    "\n",
    "print(f\"Correct injuries: {correct}/{total} ({correct/total*100:.2f}%)\")\n"
   ]
  },
  {
   "cell_type": "markdown",
   "metadata": {},
   "source": [
    "### Score on Reason"
   ]
  },
  {
   "cell_type": "code",
   "execution_count": 29,
   "metadata": {},
   "outputs": [
    {
     "name": "stdout",
     "output_type": "stream",
     "text": [
      "Correct reason: 181/864 (20.95%)\n"
     ]
    }
   ],
   "source": [
    "total = len(joined_df)\n",
    "correct = 0\n",
    "\n",
    "for index, row in joined_df.iterrows():\n",
    "    if type(row['expectedReason']) == str and row['expectedReason'].replace(\">\", \"\").replace(\"<\", \"\") in row[\"reason\"]:\n",
    "        correct += 1\n",
    "\n",
    "print(f\"Correct reason: {correct}/{total} ({correct/total*100:.2f}%)\")\n"
   ]
  }
 ],
 "metadata": {
  "kernelspec": {
   "display_name": "nlp",
   "language": "python",
   "name": "python3"
  },
  "language_info": {
   "codemirror_mode": {
    "name": "ipython",
    "version": 3
   },
   "file_extension": ".py",
   "mimetype": "text/x-python",
   "name": "python",
   "nbconvert_exporter": "python",
   "pygments_lexer": "ipython3",
   "version": "3.12.3"
  }
 },
 "nbformat": 4,
 "nbformat_minor": 2
}
